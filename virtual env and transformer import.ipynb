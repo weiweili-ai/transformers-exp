{
 "cells": [
  {
   "cell_type": "code",
   "execution_count": 1,
   "metadata": {},
   "outputs": [],
   "source": [
    "import transformers"
   ]
  },
  {
   "cell_type": "markdown",
   "metadata": {},
   "source": [
    "# create a virtual environment\n",
    "run this in the terminal: \n",
    "python -m venv .env\n",
    "你现在应该在原本为空的文件夹中看到一个名为 .env 的目录：ls -a\n",
    "你可以使用 activate 和 deactivate 命令来控制进入和退出你的虚拟环境：\n",
    "# 激活虚拟环境\n",
    "source .env/bin/activate\n",
    "# 退出虚拟环境\n",
    "deactivate\n",
    "你可以通过运行 which python 命令来检测虚拟环境是否被激活：如果它指向虚拟环境，那么你已经成功激活了它"
   ]
  }
 ],
 "metadata": {
  "kernelspec": {
   "display_name": "base",
   "language": "python",
   "name": "python3"
  },
  "language_info": {
   "codemirror_mode": {
    "name": "ipython",
    "version": 3
   },
   "file_extension": ".py",
   "mimetype": "text/x-python",
   "name": "python",
   "nbconvert_exporter": "python",
   "pygments_lexer": "ipython3",
   "version": "3.11.5"
  }
 },
 "nbformat": 4,
 "nbformat_minor": 2
}
