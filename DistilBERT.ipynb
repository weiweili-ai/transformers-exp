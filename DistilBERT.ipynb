{
 "cells": [
  {
   "cell_type": "markdown",
   "metadata": {},
   "source": [
    "DistilBERT是BERT(Bidirectional Encoder Representations from Transformers）的一个精简版本，由Hugging Face团队开发。它通过知识蒸馏技术，将BERT模型中的知识压缩到一个较小的模型中，同时保持了较高的性能。与BERT相比，DistilBERT的参数量减少了约40%，推理速度提高了60%。\n",
    "\n",
    "DistilBERT的工作原理基于知识蒸馏技术，这是一种将复杂模型（教师模型）中的知识转移到简单模型（学生模型）中的方法。在训练过程中，学生模型尝试模仿教师模型的输出，同时保持自身的结构紧凑。DistilBERT作为教师模型的BERT的精简版，通过最小化学生模型与教师模型输出之间的差异，实现了知识的有效传递。\n",
    "\n",
    "在多个NLP任务上，DistilBERT的性能与BERT相近，但推理速度更快，参数量更少。这使得DistilBERT在实际应用中具有更高的可行性."
   ]
  },
  {
   "cell_type": "code",
   "execution_count": 1,
   "metadata": {},
   "outputs": [
    {
     "name": "stderr",
     "output_type": "stream",
     "text": [
      "/Users/georgeli/anaconda3/lib/python3.11/site-packages/transformers/utils/generic.py:260: UserWarning: torch.utils._pytree._register_pytree_node is deprecated. Please use torch.utils._pytree.register_pytree_node instead.\n",
      "  torch.utils._pytree._register_pytree_node(\n"
     ]
    },
    {
     "data": {
      "application/vnd.jupyter.widget-view+json": {
       "model_id": "7e727054e5f34db298b68bebeba08565",
       "version_major": 2,
       "version_minor": 0
      },
      "text/plain": [
       "Downloading vocab.txt:   0%|          | 0.00/232k [00:00<?, ?B/s]"
      ]
     },
     "metadata": {},
     "output_type": "display_data"
    },
    {
     "data": {
      "application/vnd.jupyter.widget-view+json": {
       "model_id": "7cf5da8015f44e149cfa5dbf91392066",
       "version_major": 2,
       "version_minor": 0
      },
      "text/plain": [
       "Downloading tokenizer_config.json:   0%|          | 0.00/48.0 [00:00<?, ?B/s]"
      ]
     },
     "metadata": {},
     "output_type": "display_data"
    },
    {
     "data": {
      "application/vnd.jupyter.widget-view+json": {
       "model_id": "e189cf11ab3e43789fc5a6c25655f26a",
       "version_major": 2,
       "version_minor": 0
      },
      "text/plain": [
       "Downloading config.json:   0%|          | 0.00/483 [00:00<?, ?B/s]"
      ]
     },
     "metadata": {},
     "output_type": "display_data"
    }
   ],
   "source": [
    "from transformers import DistilBertTokenizer, DistilBertForSequenceClassification\n",
    "import torch\n",
    "\n",
    "#加载pre-trained distilbert模型和分词器\n",
    "tokenizer = DistilBertTokenizer.from_pretrained('distilbert-base-uncased')\n",
    "\n",
    "#加载了一个已经在SST-2（Sentiment Analysis on Twitter dataset with two classes: positive and negative）数据集上微调过的DistilBERT模型。\n",
    "model = DistilBertForSequenceClassification.from_pretrained('distilbert-base-uncased-finetuned-sst-2-english')"
   ]
  },
  {
   "cell_type": "code",
   "execution_count": 3,
   "metadata": {},
   "outputs": [
    {
     "name": "stdout",
     "output_type": "stream",
     "text": [
      "{'input_ids': tensor([[  101,  1045,  2293,  4730,   999,   102],\n",
      "        [  101,  1045,  5223, 12883,  1012,   102]]), 'attention_mask': tensor([[1, 1, 1, 1, 1, 1],\n",
      "        [1, 1, 1, 1, 1, 1]])}\n"
     ]
    }
   ],
   "source": [
    "#文本预处理: 将文本转换为模型可以接受的输入格式，包括填充和截断操作，以确保所有输入文本的长度一致\n",
    "text = [\"I love programming!\", \"I hate bugs.\"]\n",
    "inputs = tokenizer(text, return_tensors='pt', padding=True, truncation=True, max_length=512)\n",
    "print(inputs)"
   ]
  },
  {
   "cell_type": "code",
   "execution_count": 4,
   "metadata": {},
   "outputs": [
    {
     "name": "stdout",
     "output_type": "stream",
     "text": [
      "tensor([1, 0])\n",
      "[1, 0]\n"
     ]
    }
   ],
   "source": [
    "#文本分类\n",
    "with torch.no_grad():\n",
    "    outputs = model(**inputs)\n",
    "    logits = outputs.logits\n",
    "\n",
    "predictions = torch.argmax(logits, dim=-1)\n",
    "print(predictions)\n",
    "# 预测结果\n",
    "labels = predictions.tolist()\n",
    "print(labels)"
   ]
  },
  {
   "cell_type": "markdown",
   "metadata": {},
   "source": []
  }
 ],
 "metadata": {
  "kernelspec": {
   "display_name": "base",
   "language": "python",
   "name": "python3"
  },
  "language_info": {
   "codemirror_mode": {
    "name": "ipython",
    "version": 3
   },
   "file_extension": ".py",
   "mimetype": "text/x-python",
   "name": "python",
   "nbconvert_exporter": "python",
   "pygments_lexer": "ipython3",
   "version": "3.11.5"
  }
 },
 "nbformat": 4,
 "nbformat_minor": 2
}
